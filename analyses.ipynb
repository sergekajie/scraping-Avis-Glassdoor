{
 "cells": [
  {
   "cell_type": "code",
   "execution_count": 1,
   "metadata": {},
   "outputs": [
    {
     "name": "stderr",
     "output_type": "stream",
     "text": [
      "c:\\Users\\skajie\\Documents\\Projets\\Avis-Glassdoor-TNP\\venv\\lib\\site-packages\\tqdm\\auto.py:22: TqdmWarning: IProgress not found. Please update jupyter and ipywidgets. See https://ipywidgets.readthedocs.io/en/stable/user_install.html\n",
      "  from .autonotebook import tqdm as notebook_tqdm\n"
     ]
    }
   ],
   "source": [
    "# https://linogaliana-teaching.netlify.app/lda/\n",
    "# import numpy as np\n",
    "import pandas as pd\n",
    "import position_mapping\n",
    "import sentiment_classification\n",
    "from collections import Counter\n",
    "\n",
    "# from spacy.lang.fr import French\n",
    "from spacy.lang.fr.stop_words import STOP_WORDS\n",
    "import spacy\n",
    "from nltk import ngrams\n",
    "from collections import Counter\n",
    "import re\n",
    "from nltk.stem.snowball import SnowballStemmer\n",
    "\n",
    "stemmer = SnowballStemmer(language='french')\n",
    "\n",
    "# nlp = French()\n",
    "nlp = spacy.load(\"fr_core_news_sm\")"
   ]
  },
  {
   "cell_type": "code",
   "execution_count": 2,
   "metadata": {},
   "outputs": [],
   "source": [
    "\n",
    "# load datasets\n",
    "df_reviews = pd.read_excel(\"data/reviews_data.xlsx\")\n"
   ]
  },
  {
   "cell_type": "code",
   "execution_count": 3,
   "metadata": {},
   "outputs": [],
   "source": [
    "def text_processing(text):\n",
    "\n",
    "    doc = nlp(text)\n",
    "    # lemmatization\n",
    "    # lems = [tok.lemma_ for tok in doc if tok.text not in STOP_WORDS and tok.pos_ in [\"NOUN\", \"ADJ\", \"ADV\", \"VERB\"]]\n",
    "    lems = [stemmer.stem(str(tok.text)) for tok in doc if tok.text not in STOP_WORDS and tok.pos_ in [\"NOUN\", \"ADJ\", \"ADV\", \"VERB\"]]\n",
    "    # lems = [tok.text for tok in doc if tok.text not in STOP_WORDS and tok.pos_ in [\"NOUN\", \"ADJ\", \"ADV\", \"VERB\"]]\n",
    "    # pos tagging\n",
    "    return \" \".join(lems)"
   ]
  },
  {
   "cell_type": "code",
   "execution_count": 9,
   "metadata": {},
   "outputs": [
    {
     "data": {
      "text/plain": [
       "0                            - rien de spécifique (comme n'importe quel cabinet de conseil)\n",
       "1    Organisation hiérarchique - orienté résultat au détriment de l’évolution / progression\n",
       "2                                                  Peu d'intéressement et de participation.\n",
       "3                            Travail prenant, attention à bien respecter la vie perso / pro\n",
       "4         La charge de travail peut augmenter lorsqu'on nous demande des activités internes\n",
       "Name: cons, dtype: object"
      ]
     },
     "execution_count": 9,
     "metadata": {},
     "output_type": "execute_result"
    }
   ],
   "source": [
    "pd.options.display.max_colwidth = 100\n",
    "pd.options.display.max_rows = 200\n",
    "\n",
    "df_reviews[\"cons\"].head()"
   ]
  },
  {
   "cell_type": "code",
   "execution_count": 10,
   "metadata": {},
   "outputs": [
    {
     "data": {
      "text/plain": [
       "[('mission interessant', 9),\n",
       " ('bon ambiance', 8),\n",
       " ('salaire', 6),\n",
       " ('autonomie', 6),\n",
       " ('diversite mission', 5),\n",
       " ('management proximite', 4),\n",
       " ('ambiance', 4),\n",
       " ('tres bon ambiance', 4),\n",
       " ('mission', 4),\n",
       " ('equilibre vie pro', 3),\n",
       " ('proximite management', 3),\n",
       " ('afterwork', 3),\n",
       " ('cabinet fort croissance', 3),\n",
       " ('cabinet taille humain', 2),\n",
       " ('taille humain', 2),\n",
       " ('dynamisme', 2),\n",
       " ('proximite management direction', 2),\n",
       " ('apprentissage rapide', 2),\n",
       " ('sein equipe mission', 2),\n",
       " ('entreprise taille humain', 2)]"
      ]
     },
     "execution_count": 10,
     "metadata": {},
     "output_type": "execute_result"
    }
   ],
   "source": [
    "## all pros\n",
    "all_pros = (\n",
    "    [\n",
    "        pro.replace(\"- \", \"\").replace(\"/\", \" \").strip() \n",
    "        for i in df_reviews[\"pros\"].apply(lambda pros: re.split(r\"\\n|\\r|,\", pros)).tolist() \n",
    "        for pro in i\n",
    "    ]\n",
    ")\n",
    "from unidecode import unidecode\n",
    "\n",
    "all_pros_processed = [\n",
    "    unidecode(\" \".join([tok.lemma_.lower() for tok in nlp(pros) if tok.pos_ in [\"NOUN\", \"ADJ\", \"ADV\", \"PROPN\"]])) \n",
    "    # unidecode(\" \".join([stemmer.stem(str(tok.text)) for tok in nlp(pros) if tok.pos_ in [\"NOUN\", \"ADJ\", \"ADV\", \"PROPN\"]])) \n",
    "    for pros in all_pros\n",
    "]\n",
    "\n",
    "all_pros_processed_with_ngrams = []\n",
    "\n",
    "for pros in all_pros_processed:\n",
    "    if len(pros.split(\" \")) >= 3:\n",
    "        all_pros_processed_with_ngrams = all_pros_processed_with_ngrams + [\" \".join(bigram) for bigram in ngrams(pros.split(\" \"), 3) if pros != \"\"]\n",
    "    elif len(pros.split(\" \")) >= 2:\n",
    "        all_pros_processed_with_ngrams = all_pros_processed_with_ngrams + [\" \".join(bigram) for bigram in ngrams(pros.split(\" \"), 2) if pros != \"\"]\n",
    "    else:\n",
    "        all_pros_processed_with_ngrams = all_pros_processed_with_ngrams + [\" \".join(bigram) for bigram in ngrams(pros.split(\" \"), 1) if pros != \"\"]\n",
    "\n",
    "# show all bigram\n",
    "all_pros_processed_with_ngrams = [x for x in all_pros_processed_with_ngrams if x != \"\"]\n",
    "Counter(all_pros_processed_with_ngrams).most_common(20)"
   ]
  },
  {
   "cell_type": "code",
   "execution_count": 11,
   "metadata": {},
   "outputs": [
    {
     "data": {
      "text/plain": [
       "[('management', 5),\n",
       " ('equilibre vie pro', 3),\n",
       " ('vie pro vie', 3),\n",
       " ('type mission', 3),\n",
       " ('equilibre vie professionnel', 3),\n",
       " ('mission ne pas', 2),\n",
       " ('ne pas tout', 2),\n",
       " ('travail', 2),\n",
       " ('vie professionnel vie', 2),\n",
       " ('pas', 2),\n",
       " ('directeur manager', 2),\n",
       " (\"specifique n' cabinet\", 1),\n",
       " (\"n' cabinet conseil\", 1),\n",
       " ('organisation hierarchique resultat', 1),\n",
       " ('hierarchique resultat detriment', 1),\n",
       " ('resultat detriment evolution', 1),\n",
       " ('detriment evolution progression', 1),\n",
       " ('peu interessement participation', 1),\n",
       " ('travail prenant', 1),\n",
       " ('attention bien vie', 1)]"
      ]
     },
     "execution_count": 11,
     "metadata": {},
     "output_type": "execute_result"
    }
   ],
   "source": [
    "## all cons\n",
    "all_cons = (\n",
    "    [\n",
    "        pro.replace(\"- \", \"\").replace(\"/\", \" \").strip() \n",
    "        for i in df_reviews[\"cons\"].apply(lambda cons: re.split(r\"\\n|\\r|,\", cons)).tolist() \n",
    "        for pro in i\n",
    "    ]\n",
    ")\n",
    "from unidecode import unidecode\n",
    "\n",
    "all_cons_processed = [\n",
    "    unidecode(\" \".join([tok.lemma_.lower() for tok in nlp(cons) if tok.pos_ in [\"NOUN\", \"ADJ\", \"ADV\", \"PROPN\"]])) \n",
    "    for cons in all_cons\n",
    "]\n",
    "\n",
    "all_cons_processed_with_ngrams = []\n",
    "\n",
    "for cons in all_cons_processed:\n",
    "    if len(cons.split(\" \")) >= 4:\n",
    "        all_cons_processed_with_ngrams = all_cons_processed_with_ngrams + [\" \".join(bigram) for bigram in ngrams(cons.split(\" \"), 3) if cons != \"\"]\n",
    "    elif len(cons.split(\" \")) >= 3:\n",
    "        all_cons_processed_with_ngrams = all_cons_processed_with_ngrams + [\" \".join(bigram) for bigram in ngrams(cons.split(\" \"), 3) if cons != \"\"]\n",
    "    elif len(cons.split(\" \")) >= 2:\n",
    "        all_cons_processed_with_ngrams = all_cons_processed_with_ngrams + [\" \".join(bigram) for bigram in ngrams(cons.split(\" \"), 2) if cons != \"\"]\n",
    "    else:\n",
    "        all_cons_processed_with_ngrams = all_cons_processed_with_ngrams + [\" \".join(bigram) for bigram in ngrams(cons.split(\" \"), 1) if cons != \"\"]\n",
    "\n",
    "# show all bigram\n",
    "all_cons_processed_with_ngrams = [x for x in all_cons_processed_with_ngrams if x != \"\"]\n",
    "Counter(all_cons_processed_with_ngrams).most_common(20)"
   ]
  },
  {
   "cell_type": "code",
   "execution_count": 12,
   "metadata": {},
   "outputs": [],
   "source": [
    "pros_df = pd.DataFrame(Counter(all_pros_processed_with_ngrams).most_common(), columns=[\"pros\", \"number\"])\n",
    "cons_df = pd.DataFrame(Counter(all_cons_processed_with_ngrams).most_common(), columns=[\"cons\", \"number\"])"
   ]
  },
  {
   "cell_type": "code",
   "execution_count": 18,
   "metadata": {},
   "outputs": [],
   "source": [
    "# save\n",
    "# pros_df.to_excel(\"data/pros_df.xlsx\", index=False)\n",
    "# cons_df.to_excel(\"data/cons_df.xlsx\", index=False)\n",
    "\n",
    "pd.DataFrame(all_pros_processed_with_ngrams, columns=[\"pros\"]).to_excel(\"data/pros_df.xlsx\", index=False)\n",
    "pd.DataFrame(all_cons_processed_with_ngrams, columns=[\"cons\"]).to_excel(\"data/cons_df.xlsx\", index=False)"
   ]
  }
 ],
 "metadata": {
  "kernelspec": {
   "display_name": "Python 3.8.6 ('venv': venv)",
   "language": "python",
   "name": "python3"
  },
  "language_info": {
   "codemirror_mode": {
    "name": "ipython",
    "version": 3
   },
   "file_extension": ".py",
   "mimetype": "text/x-python",
   "name": "python",
   "nbconvert_exporter": "python",
   "pygments_lexer": "ipython3",
   "version": "3.8.6"
  },
  "orig_nbformat": 4,
  "vscode": {
   "interpreter": {
    "hash": "d9673c8ce18cdc7857ce15594fe6d8149a0a103e1e64583ed711c13c5ba15eab"
   }
  }
 },
 "nbformat": 4,
 "nbformat_minor": 2
}
